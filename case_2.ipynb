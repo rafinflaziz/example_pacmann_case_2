{
 "cells": [
  {
   "cell_type": "code",
   "execution_count": null,
   "metadata": {},
   "outputs": [],
   "source": [
    "!pip install tabulate"
   ]
  },
  {
   "cell_type": "code",
   "execution_count": 2,
   "metadata": {},
   "outputs": [],
   "source": [
    "# untuk membuat table\n",
    "from tabulate import tabulate\n",
    "\n",
    "# square root, untuk menghitung euclidean distance\n",
    "from math import sqrt"
   ]
  },
  {
   "cell_type": "code",
   "execution_count": 4,
   "metadata": {},
   "outputs": [],
   "source": [
    "# isi titik - titik di bawah ini\n",
    "\n",
    "class Member:\n",
    "    \n",
    "    def __init__(self, username, monthly_income, monthly_expense):\n",
    "        \n",
    "        self.username = username\n",
    "        self.monthly_income = monthly_income\n",
    "        self.monthly_expense = monthly_expense\n",
    "    \n",
    "        \n",
    "    # method untuk menampilkan benefit membership\n",
    "    def show_all_tier(self):\n",
    "        rows = [\n",
    "            [\"Platinum\", \"15%\", \"Benefit Gold + Silver + Cashback max. 30%\"],\n",
    "            [\"Gold\", \"12%\", \"Benefit Silver + Voucher Ojek Online\"],\n",
    "            [\"Silver\", \"8%\", \"Voucher Makanan\"],\n",
    "        ]\n",
    "\n",
    "        headers = [\"Membership\", \"Discount\", \"Another Benefit\"]\n",
    "        \n",
    "        print(tabulate(rows, headers))\n",
    "        \n",
    "        \n",
    "    def show_tier_requirement(self):\n",
    "        rows = [\n",
    "            [\"Platinum\", \"8\", \"15\"],\n",
    "            [\"Gold\", \"6\", \"10\"],\n",
    "            [\"Silver\", \"5\", \"7\"],\n",
    "        ]\n",
    "\n",
    "        headers = [\"Membership\", \"Monthly Expense (juta)\", \"Monthly Income (juta)\"]\n",
    "        \n",
    "        print(tabulate(rows, headers))\n",
    "        \n",
    "    \n",
    "    def predict_membership(self):\n",
    "        monthly_expense = self.monthly_expense\n",
    "        monthly_income = self.monthly_income\n",
    "        \n",
    "        silver = [5,7]\n",
    "        gold = [6,10]\n",
    "        platinum = [8,15]\n",
    "        \n",
    "        silver_distance = sqrt((monthly_expense - silver[0])**2 + (monthly_income - silver[1])**2)\n",
    "        gold_distance = sqrt((monthly_expense - gold[0])**2 + (monthly_income - gold[1])**2)\n",
    "        platinum_distance = sqrt((monthly_expense - platinum[0])**2 + (monthly_income - platinum[1])**2)\n",
    "        \n",
    "#         silver_distance = sqrt((monthly_expense - 5)**2 + (monthly_income - 7)**2)\n",
    "#         gold_distance = sqrt((monthly_expense - 6)**2 + (monthly_income - 10)**2)\n",
    "#         platinum_distance = sqrt((monthly_expense - 8)**2 + (monthly_income - 15)**2)\n",
    "        \n",
    "        \n",
    "        if silver_distance <= gold_distance and silver_distance <= platinum_distance:\n",
    "            self.membership = \"silver\"\n",
    "#             return \"silver\"\n",
    "#             print(\"silver\")\n",
    "        elif gold_distance <= silver_distance and gold_distance <= platinum_distance:\n",
    "            self.membership = \"gold\"\n",
    "#             return \"gold\"\n",
    "#             print(\"gold\")\n",
    "        else:\n",
    "#             return \"platinum\"\n",
    "            self.membership = \"platinum\"\n",
    "#             print(\"platinum\")\n",
    "            \n",
    "        \n",
    "    def calculate_price(self, items_price):\n",
    "        \"\"\"Menghitung total harga setelah diskon\"\"\"\n",
    "        if not self.membership:\n",
    "            print(\"Prediksi membership terlebih dahulu!\")\n",
    "            return None\n",
    "        \n",
    "        total_price = sum(items_price)\n",
    "        \n",
    "        # Hitung diskon\n",
    "        discount_rates = {'platinum': 0.15, 'gold': 0.12, 'silver': 0.08}\n",
    "        discount = discount_rates.get(self.membership, 0)\n",
    "        final_price = total_price * (1 - discount)\n",
    "        \n",
    "        # Tampilkan dalam tabel\n",
    "        headers = [\"Description\", \"Amount\"]\n",
    "        table_data = [\n",
    "            [\"Total Harga\", f\"Rp {total_price:,}\"],\n",
    "            [\"Membership\", self.membership.upper()],\n",
    "            [\"Discount\", f\"{discount*100}%\"],\n",
    "            [\"Harga Final\", f\"Rp {final_price:,.2f}\"]\n",
    "        ]\n",
    "        \n",
    "        print(\"\\n=== TOTAL PEMBAYARAN ===\")\n",
    "        print(tabulate(table_data, headers=headers, tablefmt=\"fancy_grid\"))\n",
    "        \n",
    "        return final_price\n",
    "    \n",
    "    \n",
    "#     def calculate_price(self, prices):\n",
    "#         # prices adalah list\n",
    "#         # sebagai contoh, prices = [100_000, 500_000, 300_000]\n",
    "        \n",
    "#         # tentukan kategori membership dari self\n",
    "#         category = self.predict_membership()\n",
    "        \n",
    "#         # tentukan diskon berdasarkan kategori\n",
    "#         # platinum = 15, gold = 10, silver = 8\n",
    "        \n",
    "#         if category == \"silver\":\n",
    "#             discount = 0.08\n",
    "            \n",
    "#         elif category == \"gold\":\n",
    "#             discount = 0.1\n",
    "            \n",
    "#         elif category == \"platinum\":\n",
    "#             discount = 0.15\n",
    "        \n",
    "#         # apply diskon ke setiap harga\n",
    "#         # sebagai contoh, untuk platinum dengan diskon 15%,\n",
    "#         # 100_000 -> 85_000\n",
    "#         # 500_000 -> 425_000\n",
    "#         # 300_000 -> 255_000\n",
    "        \n",
    "#         final_price = 0\n",
    "        \n",
    "#         for price in prices:\n",
    "#             discounted_price = price - (price * discount)\n",
    "#             final_price += discounted_price\n",
    "        \n",
    "#         # return total setelah didiskon\n",
    "#         # 85+425+255 = 510 + 255 = 765_000\n",
    "        \n",
    "#         # atau,\n",
    "#         # 100 + 500 + 300 = 900_000 didiskon 15% menjadi 765_000\n",
    "        \n",
    "#         total_price = sum(prices)\n",
    "#         final_price = total_price * (1 - discount)"
   ]
  },
  {
   "cell_type": "code",
   "execution_count": 5,
   "metadata": {},
   "outputs": [],
   "source": [
    "# membuat Instance\n",
    "user_1 = Member(\"Pacmann\", 10, 7)\n",
    "\n",
    "# membuat Instance (cara 2)\n",
    "# user_1 = Member(username=\"Pacmann\", monthly_income=10, monthly_expense=7)"
   ]
  },
  {
   "cell_type": "code",
   "execution_count": 6,
   "metadata": {},
   "outputs": [
    {
     "name": "stdout",
     "output_type": "stream",
     "text": [
      "Membership    Discount    Another Benefit\n",
      "------------  ----------  -----------------------------------------\n",
      "Platinum      15%         Benefit Gold + Silver + Cashback max. 30%\n",
      "Gold          10%         Benefit Silver + Voucher Ojek Online\n",
      "Silver        8%          Voucher Makanan\n"
     ]
    }
   ],
   "source": [
    "# isi titik - titik di bawah ini\n",
    "user_1.show_all_tier()"
   ]
  },
  {
   "cell_type": "code",
   "execution_count": 7,
   "metadata": {},
   "outputs": [
    {
     "name": "stdout",
     "output_type": "stream",
     "text": [
      "Membership      Monthly Expense (juta)    Monthly Income (juta)\n",
      "------------  ------------------------  -----------------------\n",
      "Platinum                             8                       15\n",
      "Gold                                 6                       10\n",
      "Silver                               5                        7\n"
     ]
    }
   ],
   "source": [
    "# isi titik - titik di bawah ini\n",
    "user_1.show_tier_requirement()"
   ]
  },
  {
   "cell_type": "code",
   "execution_count": 8,
   "metadata": {},
   "outputs": [],
   "source": [
    "# isi titik - titik di bawah ini\n",
    "user_1.predict_membership()"
   ]
  },
  {
   "cell_type": "code",
   "execution_count": 9,
   "metadata": {},
   "outputs": [
    {
     "name": "stdout",
     "output_type": "stream",
     "text": [
      "\n",
      "=== TOTAL PEMBAYARAN ===\n",
      "╒═══════════════╤═══════════════╕\n",
      "│ Description   │ Amount        │\n",
      "╞═══════════════╪═══════════════╡\n",
      "│ Total Harga   │ Rp 750,000    │\n",
      "├───────────────┼───────────────┤\n",
      "│ Membership    │ GOLD          │\n",
      "├───────────────┼───────────────┤\n",
      "│ Discount      │ 10.0%         │\n",
      "├───────────────┼───────────────┤\n",
      "│ Harga Final   │ Rp 675,000.00 │\n",
      "╘═══════════════╧═══════════════╛\n"
     ]
    },
    {
     "data": {
      "text/plain": [
       "675000.0"
      ]
     },
     "execution_count": 9,
     "metadata": {},
     "output_type": "execute_result"
    }
   ],
   "source": [
    "# isi titik - titik di bawah ini\n",
    "user_1.calculate_price([150_000, 200_000, 400_000])"
   ]
  },
  {
   "cell_type": "code",
   "execution_count": 10,
   "metadata": {},
   "outputs": [
    {
     "name": "stdout",
     "output_type": "stream",
     "text": [
      "\n",
      "=== TOTAL PEMBAYARAN ===\n",
      "╒═══════════════╤═════════════════╕\n",
      "│ Description   │ Amount          │\n",
      "╞═══════════════╪═════════════════╡\n",
      "│ Total Harga   │ Rp 1,715,000    │\n",
      "├───────────────┼─────────────────┤\n",
      "│ Membership    │ SILVER          │\n",
      "├───────────────┼─────────────────┤\n",
      "│ Discount      │ 8.0%            │\n",
      "├───────────────┼─────────────────┤\n",
      "│ Harga Final   │ Rp 1,577,800.00 │\n",
      "╘═══════════════╧═════════════════╛\n"
     ]
    },
    {
     "data": {
      "text/plain": [
       "1577800.0"
      ]
     },
     "execution_count": 10,
     "metadata": {},
     "output_type": "execute_result"
    }
   ],
   "source": [
    "# isi titik - titik di bawah ini\n",
    "user_2 = Member(\"Bambang\", 4, 3)\n",
    "\n",
    "user_2.predict_membership()\n",
    "user_2.calculate_price([300_000, 150_000, 1_250_000, 15_000])"
   ]
  }
 ],
 "metadata": {
  "kernelspec": {
   "display_name": "Python 3",
   "language": "python",
   "name": "python3"
  },
  "language_info": {
   "codemirror_mode": {
    "name": "ipython",
    "version": 3
   },
   "file_extension": ".py",
   "mimetype": "text/x-python",
   "name": "python",
   "nbconvert_exporter": "python",
   "pygments_lexer": "ipython3",
   "version": "3.12.4"
  }
 },
 "nbformat": 4,
 "nbformat_minor": 2
}
